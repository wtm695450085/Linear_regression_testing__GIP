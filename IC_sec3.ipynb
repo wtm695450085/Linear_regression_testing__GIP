{
 "cells": [
  {
   "cell_type": "markdown",
   "metadata": {},
   "source": [
    "<span style=\"font-size: 250%;color:#1155cc\"> Pytorch_4_Proste sieci neuronowe_torch.nn.Sequential\n",
    "\n",
    "<span style=\"font-size: 150%;color:Red\"> 16.09.2020"
   ]
  },
  {
   "cell_type": "code",
   "execution_count": 1,
   "metadata": {},
   "outputs": [],
   "source": [
    "import torch\n",
    "import pandas as pd\n",
    "from torch.autograd import Variable\n",
    "import torch.nn.functional as F\n",
    "import torch.utils.data as Data\n",
    "\n",
    "import matplotlib.pyplot as plt\n",
    "%matplotlib inline\n",
    "\n",
    "import numpy as np\n",
    "import imageio"
   ]
  },
  {
   "cell_type": "code",
   "execution_count": 2,
   "metadata": {},
   "outputs": [
    {
     "name": "stdout",
     "output_type": "stream",
     "text": [
      "Unnamed: 0                int64\n",
      "Timestamp                object\n",
      "Value                     int64\n",
      "do100                     int64\n",
      "kon                     float64\n",
      "val_diff                float64\n",
      "ZNAK                      int64\n",
      "zeK                       int64\n",
      "do100Plus                 int64\n",
      "prognoza                float64\n",
      "Prognoza_skorygowana    float64\n",
      "dtype: object\n"
     ]
    },
    {
     "data": {
      "text/html": [
       "<div>\n",
       "<style scoped>\n",
       "    .dataframe tbody tr th:only-of-type {\n",
       "        vertical-align: middle;\n",
       "    }\n",
       "\n",
       "    .dataframe tbody tr th {\n",
       "        vertical-align: top;\n",
       "    }\n",
       "\n",
       "    .dataframe thead th {\n",
       "        text-align: right;\n",
       "    }\n",
       "</style>\n",
       "<table border=\"1\" class=\"dataframe\">\n",
       "  <thead>\n",
       "    <tr style=\"text-align: right;\">\n",
       "      <th></th>\n",
       "      <th>Unnamed: 0</th>\n",
       "      <th>Timestamp</th>\n",
       "      <th>Value</th>\n",
       "      <th>do100</th>\n",
       "      <th>kon</th>\n",
       "      <th>val_diff</th>\n",
       "      <th>ZNAK</th>\n",
       "      <th>zeK</th>\n",
       "      <th>do100Plus</th>\n",
       "      <th>prognoza</th>\n",
       "      <th>Prognoza_skorygowana</th>\n",
       "    </tr>\n",
       "  </thead>\n",
       "  <tbody>\n",
       "    <tr>\n",
       "      <td>0</td>\n",
       "      <td>0</td>\n",
       "      <td>2020-05-01 00:00:00</td>\n",
       "      <td>0</td>\n",
       "      <td>0</td>\n",
       "      <td>NaN</td>\n",
       "      <td>NaN</td>\n",
       "      <td>1</td>\n",
       "      <td>0</td>\n",
       "      <td>0</td>\n",
       "      <td>100.0</td>\n",
       "      <td>NaN</td>\n",
       "    </tr>\n",
       "    <tr>\n",
       "      <td>1</td>\n",
       "      <td>1</td>\n",
       "      <td>2020-05-01 00:00:01</td>\n",
       "      <td>0</td>\n",
       "      <td>1</td>\n",
       "      <td>NaN</td>\n",
       "      <td>NaN</td>\n",
       "      <td>1</td>\n",
       "      <td>0</td>\n",
       "      <td>1</td>\n",
       "      <td>100.0</td>\n",
       "      <td>NaN</td>\n",
       "    </tr>\n",
       "    <tr>\n",
       "      <td>2</td>\n",
       "      <td>2</td>\n",
       "      <td>2020-05-01 00:00:02</td>\n",
       "      <td>0</td>\n",
       "      <td>2</td>\n",
       "      <td>NaN</td>\n",
       "      <td>NaN</td>\n",
       "      <td>1</td>\n",
       "      <td>0</td>\n",
       "      <td>2</td>\n",
       "      <td>100.0</td>\n",
       "      <td>NaN</td>\n",
       "    </tr>\n",
       "    <tr>\n",
       "      <td>3</td>\n",
       "      <td>3</td>\n",
       "      <td>2020-05-01 00:00:03</td>\n",
       "      <td>0</td>\n",
       "      <td>3</td>\n",
       "      <td>NaN</td>\n",
       "      <td>NaN</td>\n",
       "      <td>1</td>\n",
       "      <td>0</td>\n",
       "      <td>3</td>\n",
       "      <td>100.0</td>\n",
       "      <td>100.0</td>\n",
       "    </tr>\n",
       "  </tbody>\n",
       "</table>\n",
       "</div>"
      ],
      "text/plain": [
       "   Unnamed: 0            Timestamp  Value  do100  kon  val_diff  ZNAK  zeK  \\\n",
       "0           0  2020-05-01 00:00:00      0      0  NaN       NaN     1    0   \n",
       "1           1  2020-05-01 00:00:01      0      1  NaN       NaN     1    0   \n",
       "2           2  2020-05-01 00:00:02      0      2  NaN       NaN     1    0   \n",
       "3           3  2020-05-01 00:00:03      0      3  NaN       NaN     1    0   \n",
       "\n",
       "   do100Plus  prognoza  Prognoza_skorygowana  \n",
       "0          0     100.0                   NaN  \n",
       "1          1     100.0                   NaN  \n",
       "2          2     100.0                   NaN  \n",
       "3          3     100.0                 100.0  "
      ]
     },
     "execution_count": 2,
     "metadata": {},
     "output_type": "execute_result"
    }
   ],
   "source": [
    "df = pd.read_csv('/media/wojciech/D6DE33C1DE339927/1A/dane7.csv')    \n",
    "print(df.dtypes)\n",
    "df.head(4)"
   ]
  },
  {
   "cell_type": "code",
   "execution_count": 3,
   "metadata": {},
   "outputs": [],
   "source": [
    "df['Timestamp'] = pd.to_datetime(df['Timestamp'])"
   ]
  },
  {
   "cell_type": "code",
   "execution_count": 4,
   "metadata": {},
   "outputs": [
    {
     "data": {
      "text/html": [
       "<div>\n",
       "<style scoped>\n",
       "    .dataframe tbody tr th:only-of-type {\n",
       "        vertical-align: middle;\n",
       "    }\n",
       "\n",
       "    .dataframe tbody tr th {\n",
       "        vertical-align: top;\n",
       "    }\n",
       "\n",
       "    .dataframe thead th {\n",
       "        text-align: right;\n",
       "    }\n",
       "</style>\n",
       "<table border=\"1\" class=\"dataframe\">\n",
       "  <thead>\n",
       "    <tr style=\"text-align: right;\">\n",
       "      <th></th>\n",
       "      <th>Unnamed: 0</th>\n",
       "      <th>Timestamp</th>\n",
       "      <th>Value</th>\n",
       "      <th>do100</th>\n",
       "      <th>kon</th>\n",
       "      <th>val_diff</th>\n",
       "      <th>ZNAK</th>\n",
       "      <th>zeK</th>\n",
       "      <th>do100Plus</th>\n",
       "      <th>prognoza</th>\n",
       "      <th>Prognoza_skorygowana</th>\n",
       "      <th>hour</th>\n",
       "      <th>minute</th>\n",
       "      <th>second</th>\n",
       "    </tr>\n",
       "  </thead>\n",
       "  <tbody>\n",
       "    <tr>\n",
       "      <td>0</td>\n",
       "      <td>0</td>\n",
       "      <td>2020-05-01 00:00:00</td>\n",
       "      <td>0</td>\n",
       "      <td>0</td>\n",
       "      <td>NaN</td>\n",
       "      <td>NaN</td>\n",
       "      <td>1</td>\n",
       "      <td>0</td>\n",
       "      <td>0</td>\n",
       "      <td>100.0</td>\n",
       "      <td>NaN</td>\n",
       "      <td>0.0</td>\n",
       "      <td>0.0</td>\n",
       "      <td>0.0</td>\n",
       "    </tr>\n",
       "    <tr>\n",
       "      <td>1</td>\n",
       "      <td>1</td>\n",
       "      <td>2020-05-01 00:00:01</td>\n",
       "      <td>0</td>\n",
       "      <td>1</td>\n",
       "      <td>NaN</td>\n",
       "      <td>NaN</td>\n",
       "      <td>1</td>\n",
       "      <td>0</td>\n",
       "      <td>1</td>\n",
       "      <td>100.0</td>\n",
       "      <td>NaN</td>\n",
       "      <td>0.0</td>\n",
       "      <td>0.0</td>\n",
       "      <td>1.0</td>\n",
       "    </tr>\n",
       "    <tr>\n",
       "      <td>2</td>\n",
       "      <td>2</td>\n",
       "      <td>2020-05-01 00:00:02</td>\n",
       "      <td>0</td>\n",
       "      <td>2</td>\n",
       "      <td>NaN</td>\n",
       "      <td>NaN</td>\n",
       "      <td>1</td>\n",
       "      <td>0</td>\n",
       "      <td>2</td>\n",
       "      <td>100.0</td>\n",
       "      <td>NaN</td>\n",
       "      <td>0.0</td>\n",
       "      <td>0.0</td>\n",
       "      <td>2.0</td>\n",
       "    </tr>\n",
       "  </tbody>\n",
       "</table>\n",
       "</div>"
      ],
      "text/plain": [
       "   Unnamed: 0           Timestamp  Value  do100  kon  val_diff  ZNAK  zeK  \\\n",
       "0           0 2020-05-01 00:00:00      0      0  NaN       NaN     1    0   \n",
       "1           1 2020-05-01 00:00:01      0      1  NaN       NaN     1    0   \n",
       "2           2 2020-05-01 00:00:02      0      2  NaN       NaN     1    0   \n",
       "\n",
       "   do100Plus  prognoza  Prognoza_skorygowana  hour  minute  second  \n",
       "0          0     100.0                   NaN   0.0     0.0     0.0  \n",
       "1          1     100.0                   NaN   0.0     0.0     1.0  \n",
       "2          2     100.0                   NaN   0.0     0.0     2.0  "
      ]
     },
     "execution_count": 4,
     "metadata": {},
     "output_type": "execute_result"
    }
   ],
   "source": [
    "\n",
    "df['hour']= df['Timestamp'].dt.hour.astype(np.float32)\n",
    "df['minute']= df['Timestamp'].dt.minute.astype(np.float32)\n",
    "df['second']= df['Timestamp'].dt.second.astype(np.float32)\n",
    "df.head(3)"
   ]
  },
  {
   "cell_type": "code",
   "execution_count": 5,
   "metadata": {},
   "outputs": [],
   "source": [
    "df2 = df[df['Unnamed: 0']<=200]"
   ]
  },
  {
   "cell_type": "code",
   "execution_count": 6,
   "metadata": {},
   "outputs": [
    {
     "name": "stderr",
     "output_type": "stream",
     "text": [
      "/home/wojciech/anaconda3/lib/python3.7/site-packages/ipykernel_launcher.py:1: SettingWithCopyWarning: \n",
      "A value is trying to be set on a copy of a slice from a DataFrame.\n",
      "Try using .loc[row_indexer,col_indexer] = value instead\n",
      "\n",
      "See the caveats in the documentation: http://pandas.pydata.org/pandas-docs/stable/user_guide/indexing.html#returning-a-view-versus-a-copy\n",
      "  \"\"\"Entry point for launching an IPython kernel.\n",
      "/home/wojciech/anaconda3/lib/python3.7/site-packages/ipykernel_launcher.py:2: SettingWithCopyWarning: \n",
      "A value is trying to be set on a copy of a slice from a DataFrame.\n",
      "Try using .loc[row_indexer,col_indexer] = value instead\n",
      "\n",
      "See the caveats in the documentation: http://pandas.pydata.org/pandas-docs/stable/user_guide/indexing.html#returning-a-view-versus-a-copy\n",
      "  \n"
     ]
    }
   ],
   "source": [
    "df2['Value'] = df2['Value'].astype(np.float32)\n",
    "df2['Unnamed: 0'] = df2['Unnamed: 0'].astype(np.float32)"
   ]
  },
  {
   "cell_type": "code",
   "execution_count": null,
   "metadata": {},
   "outputs": [],
   "source": []
  },
  {
   "cell_type": "code",
   "execution_count": 7,
   "metadata": {},
   "outputs": [],
   "source": [
    "y = df2['Value']\n",
    "x = df2['Unnamed: 0']"
   ]
  },
  {
   "cell_type": "code",
   "execution_count": 8,
   "metadata": {},
   "outputs": [
    {
     "data": {
      "text/plain": [
       "0        0.0\n",
       "1        1.0\n",
       "2        2.0\n",
       "3        3.0\n",
       "4        4.0\n",
       "       ...  \n",
       "196    196.0\n",
       "197    197.0\n",
       "198    198.0\n",
       "199    199.0\n",
       "200    200.0\n",
       "Name: Unnamed: 0, Length: 201, dtype: float32"
      ]
     },
     "execution_count": 8,
     "metadata": {},
     "output_type": "execute_result"
    }
   ],
   "source": [
    "x"
   ]
  },
  {
   "cell_type": "code",
   "execution_count": 9,
   "metadata": {},
   "outputs": [
    {
     "data": {
      "text/plain": [
       "0       0.0\n",
       "1       0.0\n",
       "2       0.0\n",
       "3       0.0\n",
       "4       0.0\n",
       "       ... \n",
       "196    10.0\n",
       "197    10.0\n",
       "198    10.0\n",
       "199    10.0\n",
       "200     0.0\n",
       "Name: Value, Length: 201, dtype: float32"
      ]
     },
     "execution_count": 9,
     "metadata": {},
     "output_type": "execute_result"
    }
   ],
   "source": [
    "y"
   ]
  },
  {
   "cell_type": "code",
   "execution_count": 10,
   "metadata": {},
   "outputs": [
    {
     "name": "stdout",
     "output_type": "stream",
     "text": [
      "tensor([0., 1., 2.])\n"
     ]
    }
   ],
   "source": [
    "\n",
    "x = np.array(x)  \n",
    "x = torch.tensor(x)\n",
    "print(x[:3])"
   ]
  },
  {
   "cell_type": "code",
   "execution_count": 11,
   "metadata": {},
   "outputs": [],
   "source": [
    "x = x.reshape(201,1)"
   ]
  },
  {
   "cell_type": "code",
   "execution_count": 12,
   "metadata": {},
   "outputs": [
    {
     "name": "stdout",
     "output_type": "stream",
     "text": [
      "tensor([0., 0., 0.])\n"
     ]
    }
   ],
   "source": [
    "y = np.array(y)  \n",
    "y = torch.tensor(y)\n",
    "print(y[:3])"
   ]
  },
  {
   "cell_type": "code",
   "execution_count": 13,
   "metadata": {},
   "outputs": [],
   "source": [
    "y = y.reshape(201,1)"
   ]
  },
  {
   "cell_type": "code",
   "execution_count": null,
   "metadata": {},
   "outputs": [],
   "source": []
  },
  {
   "cell_type": "markdown",
   "metadata": {},
   "source": [
    "### Krok 1. Tworzenie zbioru danych "
   ]
  },
  {
   "cell_type": "code",
   "execution_count": null,
   "metadata": {},
   "outputs": [],
   "source": []
  },
  {
   "cell_type": "code",
   "execution_count": null,
   "metadata": {},
   "outputs": [],
   "source": []
  },
  {
   "cell_type": "code",
   "execution_count": null,
   "metadata": {},
   "outputs": [],
   "source": []
  },
  {
   "cell_type": "code",
   "execution_count": 14,
   "metadata": {},
   "outputs": [
    {
     "data": {
      "image/png": "[encoded data removed]",
      "text/plain": [
       "<Figure size 2160x288 with 1 Axes>"
      ]
     },
     "metadata": {
      "needs_background": "light"
     },
     "output_type": "display_data"
    }
   ],
   "source": [
    "torch.manual_seed(1)    # reproducible\n",
    "\n",
    "#x = torch.unsqueeze(torch.linspace(-10, 10, 100), dim=1)  # x data (tensor), shape=(100, 1)\n",
    "#y = torch.cos(x) + 0.5*torch.rand(x.size())                # noisy y data (tensor), shape=(100, 1)\n",
    "\n",
    "# torch can only train on Variable, so convert them to Variable\n",
    "x, y = Variable(x), Variable(y)\n",
    "\n",
    "# view data\n",
    "plt.figure(figsize=(30,4))\n",
    "plt.scatter(x.data.numpy(), y.data.numpy(), color = \"blue\")\n",
    "plt.title('Regression Analysis')\n",
    "plt.xlabel('Independent varible')\n",
    "plt.ylabel('Dependent varible')\n",
    "plt.show()"
   ]
  },
  {
   "cell_type": "code",
   "execution_count": 15,
   "metadata": {},
   "outputs": [
    {
     "data": {
      "text/plain": [
       "torch.Size([201, 1])"
      ]
     },
     "execution_count": 15,
     "metadata": {},
     "output_type": "execute_result"
    }
   ],
   "source": [
    "x.shape"
   ]
  },
  {
   "cell_type": "code",
   "execution_count": 16,
   "metadata": {},
   "outputs": [
    {
     "data": {
      "text/plain": [
       "tensor([[  0.],\n",
       "        [  0.],\n",
       "        [  0.],\n",
       "        [  0.],\n",
       "        [  0.],\n",
       "        [  0.],\n",
       "        [  0.],\n",
       "        [  0.],\n",
       "        [  0.],\n",
       "        [  0.],\n",
       "        [ 10.],\n",
       "        [ 10.],\n",
       "        [ 10.],\n",
       "        [ 10.],\n",
       "        [ 10.],\n",
       "        [ 10.],\n",
       "        [ 10.],\n",
       "        [ 10.],\n",
       "        [ 10.],\n",
       "        [ 10.],\n",
       "        [ 20.],\n",
       "        [ 20.],\n",
       "        [ 20.],\n",
       "        [ 20.],\n",
       "        [ 20.],\n",
       "        [ 20.],\n",
       "        [ 20.],\n",
       "        [ 20.],\n",
       "        [ 20.],\n",
       "        [ 20.],\n",
       "        [ 30.],\n",
       "        [ 30.],\n",
       "        [ 30.],\n",
       "        [ 30.],\n",
       "        [ 30.],\n",
       "        [ 30.],\n",
       "        [ 30.],\n",
       "        [ 30.],\n",
       "        [ 30.],\n",
       "        [ 30.],\n",
       "        [ 40.],\n",
       "        [ 40.],\n",
       "        [ 40.],\n",
       "        [ 40.],\n",
       "        [ 40.],\n",
       "        [ 40.],\n",
       "        [ 40.],\n",
       "        [ 40.],\n",
       "        [ 40.],\n",
       "        [ 40.],\n",
       "        [ 50.],\n",
       "        [ 50.],\n",
       "        [ 50.],\n",
       "        [ 50.],\n",
       "        [ 50.],\n",
       "        [ 50.],\n",
       "        [ 50.],\n",
       "        [ 50.],\n",
       "        [ 50.],\n",
       "        [ 50.],\n",
       "        [ 60.],\n",
       "        [ 60.],\n",
       "        [ 60.],\n",
       "        [ 60.],\n",
       "        [ 60.],\n",
       "        [ 60.],\n",
       "        [ 60.],\n",
       "        [ 60.],\n",
       "        [ 60.],\n",
       "        [ 60.],\n",
       "        [ 70.],\n",
       "        [ 70.],\n",
       "        [ 70.],\n",
       "        [ 70.],\n",
       "        [ 70.],\n",
       "        [ 70.],\n",
       "        [ 70.],\n",
       "        [ 70.],\n",
       "        [ 70.],\n",
       "        [ 70.],\n",
       "        [ 80.],\n",
       "        [ 80.],\n",
       "        [ 80.],\n",
       "        [ 80.],\n",
       "        [ 80.],\n",
       "        [ 80.],\n",
       "        [ 80.],\n",
       "        [ 80.],\n",
       "        [ 80.],\n",
       "        [ 80.],\n",
       "        [ 90.],\n",
       "        [ 90.],\n",
       "        [ 90.],\n",
       "        [ 90.],\n",
       "        [ 90.],\n",
       "        [ 90.],\n",
       "        [ 90.],\n",
       "        [ 90.],\n",
       "        [ 90.],\n",
       "        [ 90.],\n",
       "        [100.],\n",
       "        [100.],\n",
       "        [100.],\n",
       "        [100.],\n",
       "        [100.],\n",
       "        [100.],\n",
       "        [100.],\n",
       "        [100.],\n",
       "        [100.],\n",
       "        [100.],\n",
       "        [ 90.],\n",
       "        [ 90.],\n",
       "        [ 90.],\n",
       "        [ 90.],\n",
       "        [ 90.],\n",
       "        [ 90.],\n",
       "        [ 90.],\n",
       "        [ 90.],\n",
       "        [ 90.],\n",
       "        [ 90.],\n",
       "        [ 80.],\n",
       "        [ 80.],\n",
       "        [ 80.],\n",
       "        [ 80.],\n",
       "        [ 80.],\n",
       "        [ 80.],\n",
       "        [ 80.],\n",
       "        [ 80.],\n",
       "        [ 80.],\n",
       "        [ 80.],\n",
       "        [ 70.],\n",
       "        [ 70.],\n",
       "        [ 70.],\n",
       "        [ 70.],\n",
       "        [ 70.],\n",
       "        [ 70.],\n",
       "        [ 70.],\n",
       "        [ 70.],\n",
       "        [ 70.],\n",
       "        [ 70.],\n",
       "        [ 60.],\n",
       "        [ 60.],\n",
       "        [ 60.],\n",
       "        [ 60.],\n",
       "        [ 60.],\n",
       "        [ 60.],\n",
       "        [ 60.],\n",
       "        [ 60.],\n",
       "        [ 60.],\n",
       "        [ 60.],\n",
       "        [ 50.],\n",
       "        [ 50.],\n",
       "        [ 50.],\n",
       "        [ 50.],\n",
       "        [ 50.],\n",
       "        [ 50.],\n",
       "        [ 50.],\n",
       "        [ 50.],\n",
       "        [ 50.],\n",
       "        [ 50.],\n",
       "        [ 40.],\n",
       "        [ 40.],\n",
       "        [ 40.],\n",
       "        [ 40.],\n",
       "        [ 40.],\n",
       "        [ 40.],\n",
       "        [ 40.],\n",
       "        [ 40.],\n",
       "        [ 40.],\n",
       "        [ 40.],\n",
       "        [ 30.],\n",
       "        [ 30.],\n",
       "        [ 30.],\n",
       "        [ 30.],\n",
       "        [ 30.],\n",
       "        [ 30.],\n",
       "        [ 30.],\n",
       "        [ 30.],\n",
       "        [ 30.],\n",
       "        [ 30.],\n",
       "        [ 20.],\n",
       "        [ 20.],\n",
       "        [ 20.],\n",
       "        [ 20.],\n",
       "        [ 20.],\n",
       "        [ 20.],\n",
       "        [ 20.],\n",
       "        [ 20.],\n",
       "        [ 20.],\n",
       "        [ 20.],\n",
       "        [ 10.],\n",
       "        [ 10.],\n",
       "        [ 10.],\n",
       "        [ 10.],\n",
       "        [ 10.],\n",
       "        [ 10.],\n",
       "        [ 10.],\n",
       "        [ 10.],\n",
       "        [ 10.],\n",
       "        [ 10.],\n",
       "        [  0.]])"
      ]
     },
     "execution_count": 16,
     "metadata": {},
     "output_type": "execute_result"
    }
   ],
   "source": [
    "y"
   ]
  },
  {
   "cell_type": "markdown",
   "metadata": {},
   "source": [
    "### Krok 2. Definiowanie sieci neuronowej\n",
    "##### 2.1 Programowanie torch.nn.Module"
   ]
  },
  {
   "cell_type": "raw",
   "metadata": {},
   "source": [
    "\n",
    "class Net(torch.nn.Module):\n",
    "    def __init__(self, n_feature, n_hidden, n_output):\n",
    "        super(Net, self).__init__()\n",
    "        self.hidden = torch.nn.Linear(n_feature, n_hidden)   # hidden layer\n",
    "        self.predict = torch.nn.Linear(n_hidden, n_output)   # output layer\n",
    "\n",
    "    def forward(self, x):\n",
    "        x = F.relu(self.hidden(x))      # activation function for hidden layer\n",
    "        x = self.predict(x)             # linear output\n",
    "        return x"
   ]
  },
  {
   "cell_type": "code",
   "execution_count": 17,
   "metadata": {},
   "outputs": [],
   "source": [
    "N, D_in = x.shape\n",
    "N, D_out = y.shape\n",
    "\n",
    "H = 500                            ## the number of dimensions of the inner layer\n",
    "#device = torch.device('cuda')"
   ]
  },
  {
   "cell_type": "markdown",
   "metadata": {},
   "source": [
    "##### 2.2 Definicja krztałtu sieci\n",
    "Ta sieć ma tylko jedną ukrytą warstwę, ale teraz ma 150 węzłów, a po nim następuje funkcja LeakyReLu.\n",
    "Musi byc jedna zmienna wejściowa i jedna wartość wynikowa żeby były takie fajne wykresy dwówymiarowe"
   ]
  },
  {
   "cell_type": "code",
   "execution_count": 18,
   "metadata": {},
   "outputs": [],
   "source": [
    "import torch.nn as nn\n",
    "\n",
    "layers = []\n",
    "layers.append(nn.Linear(D_in, H))   # INPUT Linear\n",
    "\n",
    "\n",
    "layers.append(nn.LeakyReLU())    ## LeakyReLU\n",
    "# normalizacja warstwy\n",
    "#layers.append(nn.BatchNorm1d(H)),\n",
    "# Apply dropout to prevent overfitting\n",
    "#layers.append(nn.Dropout(0.9)),         \n",
    "\n",
    "\n",
    "#layers.append(nn.LeakyReLU())    ## LeakyReLU\n",
    "# normalizacja warstwy\n",
    "#layers.append(nn.BatchNorm1d(H)),\n",
    "# Apply dropout to prevent overfitting\n",
    "#layers.append(nn.Dropout(0.5)), \n",
    "\n",
    "\n",
    "#layers.append(nn.Sigmoid())  ## Sigmoid\n",
    "# normalizacja warstwy\n",
    "#layers.append(nn.BatchNorm1d(H)),\n",
    "# Apply dropout to prevent overfitting\n",
    "#layers.append(nn.Dropout(0.4)), \n",
    "\n",
    "\n",
    "#layers.append(nn.ReLU(inplace=True))  ## ReLU\n",
    "# normalizacja warstwy\n",
    "#layers.append(nn.BatchNorm1d(H)),\n",
    "# Apply dropout to prevent overfitting\n",
    "#layers.append(nn.Dropout(0.4)), \n",
    "\n",
    "\n",
    "layers.append(nn.Linear(H, D_out))\n",
    "\n",
    "\n",
    "net = nn.Sequential(*layers)"
   ]
  },
  {
   "cell_type": "markdown",
   "metadata": {},
   "source": [
    "##### 2.2 Algorytm optymalizacji: \n",
    "\n",
    "##### Optymalizator SGD\n",
    "lr: Szybkość uczenia się -> Szybkość, z jaką nasz model aktualizuje wagi w komórkach za każdym razem, gdy przeprowadzana jest wsteczna propagacja"
   ]
  },
  {
   "cell_type": "code",
   "execution_count": 19,
   "metadata": {},
   "outputs": [],
   "source": [
    "#optimizer = torch.optim.SGD(net.parameters(), lr=0.1)"
   ]
  },
  {
   "cell_type": "markdown",
   "metadata": {},
   "source": [
    "##### Optymalizator ADAM \n",
    "zamiast użytego optymalizatora SGD, działa lepiej dla powykręcanego zbioru danych empirycznych. Należy przetestować różne rodzaje optymalizatorów."
   ]
  },
  {
   "cell_type": "code",
   "execution_count": 20,
   "metadata": {},
   "outputs": [],
   "source": [
    "#optimizer = torch.optim.Adam(net.parameters(), lr=0.01)"
   ]
  },
  {
   "cell_type": "markdown",
   "metadata": {},
   "source": [
    "##### Optymalizator ADAMMAX"
   ]
  },
  {
   "cell_type": "code",
   "execution_count": 21,
   "metadata": {},
   "outputs": [],
   "source": [
    "#optimizer = torch.optim.Adamax(net.parameters(), lr=0.01)"
   ]
  },
  {
   "cell_type": "markdown",
   "metadata": {},
   "source": [
    "##### Optymalizator ASGD"
   ]
  },
  {
   "cell_type": "code",
   "execution_count": 22,
   "metadata": {},
   "outputs": [],
   "source": [
    "#optimizer = torch.optim.ASGD(net.parameters(), lr=0.01, lambd=0.0001, alpha=0.15, t0=000000.0)"
   ]
  },
  {
   "cell_type": "code",
   "execution_count": 23,
   "metadata": {},
   "outputs": [],
   "source": [
    "#optimizer = torch.optim.LBFGS(net.parameters(), lr=0.01, max_iter=20, max_eval=None, tolerance_grad=1e-05, tolerance_change=1e-09, history_size=100, line_search_fn=None)"
   ]
  },
  {
   "cell_type": "markdown",
   "metadata": {},
   "source": [
    "Bardzo dobre efekty daje optimizer RMSprop"
   ]
  },
  {
   "cell_type": "code",
   "execution_count": 24,
   "metadata": {},
   "outputs": [],
   "source": [
    "#optimizer = torch.optim.RMSprop(net.parameters(), lr=0.01, alpha=0.99, eps=1e-08)"
   ]
  },
  {
   "cell_type": "markdown",
   "metadata": {},
   "source": [
    "Doskonałę efekty daje optimizer RMSprop"
   ]
  },
  {
   "cell_type": "code",
   "execution_count": 25,
   "metadata": {},
   "outputs": [],
   "source": [
    "#optimizer = torch.optim.Rprop(net.parameters(), lr=0.01, etas=(0.5, 1.2), step_sizes=(1e-06, 50))"
   ]
  },
  {
   "cell_type": "code",
   "execution_count": null,
   "metadata": {},
   "outputs": [],
   "source": []
  },
  {
   "cell_type": "code",
   "execution_count": 26,
   "metadata": {},
   "outputs": [],
   "source": [
    "optimizer = torch.optim.SGD(net.parameters(), lr=0.01, momentum=0, dampening=0, weight_decay=0, nesterov=False)"
   ]
  },
  {
   "cell_type": "code",
   "execution_count": null,
   "metadata": {},
   "outputs": [],
   "source": []
  },
  {
   "cell_type": "markdown",
   "metadata": {},
   "source": [
    "##### 2.2 Definicja funkcji straty\n",
    "to jest R2 dla regresji"
   ]
  },
  {
   "cell_type": "code",
   "execution_count": 27,
   "metadata": {},
   "outputs": [],
   "source": [
    "loss_func = torch.nn.MSELoss()  # this is for regression mean squared loss"
   ]
  },
  {
   "cell_type": "markdown",
   "metadata": {},
   "source": [
    "### Krok 3. Definiowanie procesu nauki i nauka"
   ]
  },
  {
   "cell_type": "code",
   "execution_count": 28,
   "metadata": {},
   "outputs": [
    {
     "data": {
      "image/png": "[encoded data removed]",
      "text/plain": [
       "<Figure size 432x288 with 1 Axes>"
      ]
     },
     "metadata": {
      "needs_background": "light"
     },
     "output_type": "display_data"
    },
    {
     "data": {
      "image/png": "[encoded data removed]",
      "text/plain": [
       "<Figure size 432x288 with 1 Axes>"
      ]
     },
     "metadata": {
      "needs_background": "light"
     },
     "output_type": "display_data"
    },
    {
     "data": {
      "image/png": "[encoded data removed]",
      "text/plain": [
       "<Figure size 432x288 with 1 Axes>"
      ]
     },
     "metadata": {
      "needs_background": "light"
     },
     "output_type": "display_data"
    },
    {
     "data": {
      "image/png": "[encoded data removed]",
      "text/plain": [
       "<Figure size 432x288 with 1 Axes>"
      ]
     },
     "metadata": {
      "needs_background": "light"
     },
     "output_type": "display_data"
    },
    {
     "data": {
      "image/png": "[encoded data removed]",
      "text/plain": [
       "<Figure size 432x288 with 1 Axes>"
      ]
     },
     "metadata": {
      "needs_background": "light"
     },
     "output_type": "display_data"
    },
    {
     "data": {
      "image/png": "[encoded data removed]",
      "text/plain": [
       "<Figure size 432x288 with 1 Axes>"
      ]
     },
     "metadata": {
      "needs_background": "light"
     },
     "output_type": "display_data"
    },
    {
     "data": {
      "image/png": "[encoded data removed]",
      "text/plain": [
       "<Figure size 432x288 with 1 Axes>"
      ]
     },
     "metadata": {
      "needs_background": "light"
     },
     "output_type": "display_data"
    },
    {
     "data": {
      "image/png": "[encoded data removed]",
      "text/plain": [
       "<Figure size 432x288 with 1 Axes>"
      ]
     },
     "metadata": {
      "needs_background": "light"
     },
     "output_type": "display_data"
    },
    {
     "data": {
      "image/png": "[encoded data removed]",
      "text/plain": [
       "<Figure size 432x288 with 1 Axes>"
      ]
     },
     "metadata": {
      "needs_background": "light"
     },
     "output_type": "display_data"
    },
    {
     "data": {
      "image/png": "[encoded data removed]",
      "text/plain": [
       "<Figure size 432x288 with 1 Axes>"
      ]
     },
     "metadata": {
      "needs_background": "light"
     },
     "output_type": "display_data"
    },
    {
     "data": {
      "image/png": "[encoded data removed]",
      "text/plain": [
       "<Figure size 432x288 with 1 Axes>"
      ]
     },
     "metadata": {
      "needs_background": "light"
     },
     "output_type": "display_data"
    },
    {
     "data": {
      "image/png": "[encoded data removed]",
      "text/plain": [
       "<Figure size 432x288 with 1 Axes>"
      ]
     },
     "metadata": {
      "needs_background": "light"
     },
     "output_type": "display_data"
    },
    {
     "data": {
      "image/png": "[encoded data removed]",
      "text/plain": [
       "<Figure size 432x288 with 1 Axes>"
      ]
     },
     "metadata": {
      "needs_background": "light"
     },
     "output_type": "display_data"
    },
    {
     "data": {
      "image/png": "[encoded data removed]",
      "text/plain": [
       "<Figure size 432x288 with 1 Axes>"
      ]
     },
     "metadata": {
      "needs_background": "light"
     },
     "output_type": "display_data"
    },
    {
     "data": {
      "image/png": "[encoded data removed]",
      "text/plain": [
       "<Figure size 432x288 with 1 Axes>"
      ]
     },
     "metadata": {
      "needs_background": "light"
     },
     "output_type": "display_data"
    },
    {
     "data": {
      "image/png": "[encoded data removed]",
      "text/plain": [
       "<Figure size 432x288 with 1 Axes>"
      ]
     },
     "metadata": {
      "needs_background": "light"
     },
     "output_type": "display_data"
    },
    {
     "data": {
      "image/png": "[encoded data removed]",
      "text/plain": [
       "<Figure size 432x288 with 1 Axes>"
      ]
     },
     "metadata": {
      "needs_background": "light"
     },
     "output_type": "display_data"
    },
    {
     "data": {
      "image/png": "[encoded data removed]",
      "text/plain": [
       "<Figure size 432x288 with 1 Axes>"
      ]
     },
     "metadata": {
      "needs_background": "light"
     },
     "output_type": "display_data"
    },
    {
     "data": {
      "image/png": "[encoded data removed]",
      "text/plain": [
       "<Figure size 432x288 with 1 Axes>"
      ]
     },
     "metadata": {
      "needs_background": "light"
     },
     "output_type": "display_data"
    },
    {
     "data": {
      "image/png": "[encoded data removed]",
      "text/plain": [
       "<Figure size 432x288 with 1 Axes>"
      ]
     },
     "metadata": {
      "needs_background": "light"
     },
     "output_type": "display_data"
    },
    {
     "data": {
      "image/png": "[encoded data removed]",
      "text/plain": [
       "<Figure size 432x288 with 1 Axes>"
      ]
     },
     "metadata": {
      "needs_background": "light"
     },
     "output_type": "display_data"
    }
   ],
   "source": [
    "inputs = Variable(x)                          #1. deklarujemy x i y do nauki\n",
    "outputs = Variable(y)\n",
    "for i in range(4050):                          #2. pętla 1050 powtórzeń (epok)\n",
    "   prediction = net(inputs)\n",
    "   loss = loss_func(prediction, outputs) \n",
    "   optimizer.zero_grad()\n",
    "   loss.backward()        \n",
    "   optimizer.step()       \n",
    "\n",
    "   if i % 200 == 0:                             #3. Pokazuje naukę co 100 kroków\n",
    "       # plot and show learning process\n",
    "       plt.cla()\n",
    "       plt.scatter(x.data.numpy(), y.data.numpy())\n",
    "       plt.plot(x.data.numpy(), prediction.data.numpy(), 'r--', lw=2)\n",
    "       plt.text(0.65, 0.1, 'Loss=%.4f' % loss.data.numpy(), fontdict={'size': 10, 'color':  'black'})\n",
    "       plt.text(0.65, 0.3, 'step = %d' % i, fontdict={'size': 10, 'color':  'black'})\n",
    "       plt.pause(0.1)\n",
    "\n",
    "plt.show()"
   ]
  },
  {
   "cell_type": "code",
   "execution_count": null,
   "metadata": {},
   "outputs": [],
   "source": []
  }
 ],
 "metadata": {
  "kernelspec": {
   "display_name": "Python 3",
   "language": "python",
   "name": "python3"
  },
  "language_info": {
   "codemirror_mode": {
    "name": "ipython",
    "version": 3
   },
   "file_extension": ".py",
   "mimetype": "text/x-python",
   "name": "python",
   "nbconvert_exporter": "python",
   "pygments_lexer": "ipython3",
   "version": "3.7.4"
  }
 },
 "nbformat": 4,
 "nbformat_minor": 2
}
